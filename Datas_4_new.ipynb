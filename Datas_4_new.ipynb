{
 "cells": [
  {
   "cell_type": "code",
   "execution_count": 1,
   "metadata": {},
   "outputs": [],
   "source": [
    "#Balancer V2 Pool AAVE, SNX, SUSHI, YFI\n",
    "import csv\n",
    "import sys\n",
    "sys.path.append('../datas')\n",
    "\n",
    "with open(\"BINANCE_AAVEUSDT_1D.csv\", encoding='utf-8') as r_file:\n",
    "    file_reader = csv.reader(r_file, delimiter = \",\")\n",
    "    counter=0\n",
    "    aave=[]\n",
    "    for row in file_reader:\n",
    "        if counter==0:\n",
    "            counter = 1\n",
    "        else:\n",
    "            aave.append([row[0], float(row[1]), float(row[2]),float(row[3]),float(row[4])])#time,open,close, volume\\n\",\n",
    "#print (aave)\\n\",\n",
    "with open(\"BINANCE_SNXUSDT_1D.csv\", encoding='utf-8') as r_file:\n",
    "    file_reader = csv.reader(r_file, delimiter = \",\")\n",
    "    counter=0\n",
    "    snx=[]\n",
    "    for row in file_reader:\n",
    "        if counter==0:\n",
    "             counter = 1\n",
    "        else:\n",
    "            snx.append([row[0], float(row[1]), float(row[2]),float(row[3]), float(row[4])])#time,open,close, volume\\n\",\n",
    "#print (snx)\n",
    "with open(\"BINANCE_YFIUSDT_1D.csv\", encoding='utf-8') as r_file:\n",
    "    file_reader = csv.reader(r_file, delimiter = \",\")\n",
    "    counter=0\n",
    "    yfi=[]\n",
    "    for row in file_reader:\n",
    "        if counter==0:\n",
    "             counter = 1\n",
    "        else:\n",
    "            yfi.append([row[0], float(row[1]), float(row[2]),float(row[3]), float(row[4])])#time,open,close, volume\\n\",\n",
    "#print (yfi)\n",
    "with open(\"BINANCE_SUSHIUSDT_1D.csv\", encoding='utf-8') as r_file:\n",
    "    file_reader = csv.reader(r_file, delimiter = \",\")\n",
    "    counter=0\n",
    "    sushi=[]\n",
    "    for row in file_reader:\n",
    "        if counter==0:\n",
    "                #print(row[0], row[4], row[15])\n",
    "               # print(' ')\n",
    "            counter = 1\n",
    "        else:\n",
    "            sushi.append([row[0],float(row[1]), float(row[2]),float(row[3]), float(row[4])])#time,open,high,low,close,, volume\\n\",\n",
    "#print (aave)\\n\",\n",
    "#print(aave[0][3], sushi[0][0], yfi[0][0], snx[0][0])# check the start time\\n\",\n",
    "\n",
    "datas=[]#time, price aave, price sushi, price yfi, price snx, volume aave, volume sushi, volume yfi, volume snx\n",
    "for i in range(0, len(aave)-1, 1):\n",
    "    datas.append([aave[i][4], sushi[i][4],snx[i][4], yfi[i][4], aave[i][0] ])\n"
   ]
  },
  {
   "cell_type": "code",
   "execution_count": 2,
   "metadata": {},
   "outputs": [
    {
     "data": {
      "text/plain": [
       "[42.999, 0.704, 3.912, 14614.29, '1602720000']"
      ]
     },
     "execution_count": 2,
     "metadata": {},
     "output_type": "execute_result"
    }
   ],
   "source": []
  },
  {
   "cell_type": "code",
   "execution_count": null,
   "metadata": {},
   "outputs": [],
   "source": []
  }
 ],
 "metadata": {
  "kernelspec": {
   "display_name": "Python 3",
   "language": "python",
   "name": "python3"
  },
  "language_info": {
   "codemirror_mode": {
    "name": "ipython",
    "version": 3
   },
   "file_extension": ".py",
   "mimetype": "text/x-python",
   "name": "python",
   "nbconvert_exporter": "python",
   "pygments_lexer": "ipython3",
   "version": "3.8.5"
  }
 },
 "nbformat": 4,
 "nbformat_minor": 4
}
